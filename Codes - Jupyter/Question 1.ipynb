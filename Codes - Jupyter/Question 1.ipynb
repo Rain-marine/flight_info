{
 "cells": [
  {
   "cell_type": "code",
   "execution_count": 7,
   "metadata": {},
   "outputs": [
    {
     "name": "stdout",
     "output_type": "stream",
     "text": [
      "loading Dataset Compelete!\n"
     ]
    }
   ],
   "source": [
    "# import libraries\n",
    "import pandas as pd\n",
    "from IPython.display import display\n",
    "\n",
    "# loading dataset\n",
    "df = pd.read_csv('D:\\Desktop\\Project\\FlightSalesClean.csv')\n",
    "print('loading Dataset Compelete!')"
   ]
  },
  {
   "cell_type": "code",
   "execution_count": 10,
   "metadata": {},
   "outputs": [
    {
     "name": "stdout",
     "output_type": "stream",
     "text": [
      "each user’s average table is:\n",
      "user_id\n",
      "13          973.893805\n",
      "68          512.121752\n",
      "74         1341.775762\n",
      "78          896.458007\n",
      "85          535.539961\n",
      "86         1284.941220\n",
      "96         1067.303487\n",
      "99          367.256637\n",
      "119        1582.493678\n",
      "1060        533.938053\n",
      "2055        449.446902\n",
      "2060       1189.561544\n",
      "2063        546.974231\n",
      "2064        243.362831\n",
      "2071        576.106194\n",
      "2079        357.016434\n",
      "2081        409.292035\n",
      "2086        442.477876\n",
      "2087       1030.678466\n",
      "3087       1688.864306\n",
      "3088        778.982301\n",
      "3090        787.057522\n",
      "3093        497.345132\n",
      "3096        580.353982\n",
      "3097       1210.967130\n",
      "3098        504.835650\n",
      "4098        744.247787\n",
      "4099        777.827358\n",
      "4102        580.825958\n",
      "5104        367.256637\n",
      "              ...     \n",
      "2195826     692.035398\n",
      "2195898     398.893805\n",
      "2195935     276.991150\n",
      "2195945    1112.831858\n",
      "2195959     599.778761\n",
      "2195967     663.274336\n",
      "2195970     363.716814\n",
      "2195978     217.035398\n",
      "2195980     376.548672\n",
      "2196080     205.309734\n",
      "2196130     951.548672\n",
      "2196187     662.610619\n",
      "2196223     861.946902\n",
      "2196224    1414.159292\n",
      "2196283     971.681415\n",
      "2196299    2476.106194\n",
      "2196358     205.309734\n",
      "2196405     782.411504\n",
      "2196408    1453.982300\n",
      "2196484    1696.460176\n",
      "2196537     915.486725\n",
      "2196590     252.212389\n",
      "2196621     369.469026\n",
      "2196628     398.893805\n",
      "2196630     463.274336\n",
      "2196649     205.309734\n",
      "2196653     322.566371\n",
      "2196949     181.858407\n",
      "2196971     442.035398\n",
      "2197013    1326.106194\n",
      "Name: price, Length: 41811, dtype: float64\n"
     ]
    }
   ],
   "source": [
    "# to calculate average of money spent for ticket by every user\n",
    "dataset = df.groupby(['user_id'])['price'].mean()\n",
    "\n",
    "print('each user’s average table is:')\n",
    "print(dataset)"
   ]
  },
  {
   "cell_type": "code",
   "execution_count": 11,
   "metadata": {},
   "outputs": [
    {
     "name": "stderr",
     "output_type": "stream",
     "text": [
      "C:\\Users\\ASUS\\Anaconda3\\lib\\site-packages\\ipykernel_launcher.py:2: FutureWarning: The signature of `Series.to_csv` was aligned to that of `DataFrame.to_csv`, and argument 'header' will change its default value from False to True: please pass an explicit value to suppress this warning.\n",
      "  \n"
     ]
    },
    {
     "name": "stdout",
     "output_type": "stream",
     "text": [
      "Done Exporting user’s average table \n"
     ]
    }
   ],
   "source": [
    "#export the dataset with csv format\n",
    "export_csv = dataset.to_csv(r'D:\\Desktop\\Project\\Question1.csv')\n",
    "\n",
    "print('Done Exporting user’s average table ')"
   ]
  },
  {
   "cell_type": "code",
   "execution_count": 12,
   "metadata": {},
   "outputs": [
    {
     "name": "stdout",
     "output_type": "stream",
     "text": [
      "Overall average = 3759.39\n"
     ]
    }
   ],
   "source": [
    "# calculating number of users using user_id\n",
    "number_of_users = dataset.count()\n",
    "\n",
    "# price column's sum\n",
    "price_sum = df['price'].sum()\n",
    "\n",
    "# calculating sum of prices per number of users\n",
    "price_per_user = price_sum / number_of_users\n",
    "print('Overall average =', round(price_per_user , 2))\n",
    "\n"
   ]
  },
  {
   "cell_type": "code",
   "execution_count": null,
   "metadata": {},
   "outputs": [],
   "source": []
  }
 ],
 "metadata": {
  "kernelspec": {
   "display_name": "Python 3",
   "language": "python",
   "name": "python3"
  },
  "language_info": {
   "codemirror_mode": {
    "name": "ipython",
    "version": 3
   },
   "file_extension": ".py",
   "mimetype": "text/x-python",
   "name": "python",
   "nbconvert_exporter": "python",
   "pygments_lexer": "ipython3",
   "version": "3.7.3"
  }
 },
 "nbformat": 4,
 "nbformat_minor": 2
}
