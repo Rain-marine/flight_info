{
 "cells": [
  {
   "cell_type": "code",
   "execution_count": 1,
   "metadata": {},
   "outputs": [],
   "source": [
    "import pandas as pd\n",
    "from IPython.display import display\n",
    "\n",
    "D = pd.read_csv('D:\\Desktop\\Project\\FlightSalesClean.csv')\n",
    "print('loading Dataset Compelete!')"
   ]
  },
  {
   "cell_type": "code",
   "execution_count": 2,
   "metadata": {},
   "outputs": [],
   "source": [
    "sum_price_user = D.groupby('user_id')['price'].sum()   #how much each user has paid in total\n",
    "sum_price_user  = sum_price_user.sort_values(ascending=False)  #sort users based on their paid money \n",
    "sum_price_user = sum_price_user.to_frame().reset_index() \n",
    "\n",
    "# this list will become the score column later, we append scores to this\n",
    "score_list=[]\n",
    "\n",
    "#let's calculate each user's score\n",
    "for i in sum_price_user['price']:\n",
    "    i = int(i)\n",
    "    if i > 900:\n",
    "        #for users with total expenditure more than 900, every 100 more expenditure adds 5 score to them.\n",
    "        #so if you spend 999 you get nothing if you spend 1000 you get 5 scores, 1050 means 5 score, 1100 10 score and so on\n",
    "        score_list.append((((i-900)//100)*5))\n",
    "    else:\n",
    "        score_list.append(0)\n",
    "\n",
    "#add a column named score and fill it with score list\n",
    "sum_price_user['score']=score_list\n",
    "\n"
   ]
  },
  {
   "cell_type": "code",
   "execution_count": 3,
   "metadata": {},
   "outputs": [],
   "source": [
    "#give the final sum_price_user DF a better look:\n",
    "\n",
    "sum_price_user.rename(columns={'price':'total expenditure (*10^3 T)'}, inplace=True)\n",
    "\n",
    "sum_price_user = sum_price_user.round(3)"
   ]
  },
  {
   "cell_type": "code",
   "execution_count": 4,
   "metadata": {},
   "outputs": [
    {
     "name": "stdout",
     "output_type": "stream",
     "text": [
      "top 10 customers and their score and their total expenditures are:\n"
     ]
    },
    {
     "data": {
      "text/html": [
       "<div>\n",
       "<style scoped>\n",
       "    .dataframe tbody tr th:only-of-type {\n",
       "        vertical-align: middle;\n",
       "    }\n",
       "\n",
       "    .dataframe tbody tr th {\n",
       "        vertical-align: top;\n",
       "    }\n",
       "\n",
       "    .dataframe thead th {\n",
       "        text-align: right;\n",
       "    }\n",
       "</style>\n",
       "<table border=\"1\" class=\"dataframe\">\n",
       "  <thead>\n",
       "    <tr style=\"text-align: right;\">\n",
       "      <th></th>\n",
       "      <th>user_id</th>\n",
       "      <th>total expenditure (*10^3 T)</th>\n",
       "      <th>score</th>\n",
       "    </tr>\n",
       "  </thead>\n",
       "  <tbody>\n",
       "    <tr>\n",
       "      <th>0</th>\n",
       "      <td>32502</td>\n",
       "      <td>1281083.628</td>\n",
       "      <td>64005</td>\n",
       "    </tr>\n",
       "    <tr>\n",
       "      <th>1</th>\n",
       "      <td>34737</td>\n",
       "      <td>662742.920</td>\n",
       "      <td>33090</td>\n",
       "    </tr>\n",
       "    <tr>\n",
       "      <th>2</th>\n",
       "      <td>5111</td>\n",
       "      <td>606659.491</td>\n",
       "      <td>30285</td>\n",
       "    </tr>\n",
       "    <tr>\n",
       "      <th>3</th>\n",
       "      <td>47441</td>\n",
       "      <td>557700.442</td>\n",
       "      <td>27840</td>\n",
       "    </tr>\n",
       "    <tr>\n",
       "      <th>4</th>\n",
       "      <td>55483</td>\n",
       "      <td>450809.734</td>\n",
       "      <td>22495</td>\n",
       "    </tr>\n",
       "    <tr>\n",
       "      <th>5</th>\n",
       "      <td>150606</td>\n",
       "      <td>435052.876</td>\n",
       "      <td>21705</td>\n",
       "    </tr>\n",
       "    <tr>\n",
       "      <th>6</th>\n",
       "      <td>155943</td>\n",
       "      <td>418113.274</td>\n",
       "      <td>20860</td>\n",
       "    </tr>\n",
       "    <tr>\n",
       "      <th>7</th>\n",
       "      <td>143356</td>\n",
       "      <td>373007.522</td>\n",
       "      <td>18605</td>\n",
       "    </tr>\n",
       "    <tr>\n",
       "      <th>8</th>\n",
       "      <td>37428</td>\n",
       "      <td>370335.398</td>\n",
       "      <td>18470</td>\n",
       "    </tr>\n",
       "    <tr>\n",
       "      <th>9</th>\n",
       "      <td>33865</td>\n",
       "      <td>361613.053</td>\n",
       "      <td>18035</td>\n",
       "    </tr>\n",
       "  </tbody>\n",
       "</table>\n",
       "</div>"
      ],
      "text/plain": [
       "   user_id  total expenditure (*10^3 T)  score\n",
       "0    32502                  1281083.628  64005\n",
       "1    34737                   662742.920  33090\n",
       "2     5111                   606659.491  30285\n",
       "3    47441                   557700.442  27840\n",
       "4    55483                   450809.734  22495\n",
       "5   150606                   435052.876  21705\n",
       "6   155943                   418113.274  20860\n",
       "7   143356                   373007.522  18605\n",
       "8    37428                   370335.398  18470\n",
       "9    33865                   361613.053  18035"
      ]
     },
     "metadata": {},
     "output_type": "display_data"
    }
   ],
   "source": [
    "print('top 10 customers and their score and their total expenditures are:')\n",
    "display(sum_price_user.head(10))\n"
   ]
  }
 ],
 "metadata": {
  "kernelspec": {
   "display_name": "Python 3",
   "language": "python",
   "name": "python3"
  },
  "language_info": {
   "codemirror_mode": {
    "name": "ipython",
    "version": 3
   },
   "file_extension": ".py",
   "mimetype": "text/x-python",
   "name": "python",
   "nbconvert_exporter": "python",
   "pygments_lexer": "ipython3",
   "version": "3.7.3"
  }
 },
 "nbformat": 4,
 "nbformat_minor": 2
}
