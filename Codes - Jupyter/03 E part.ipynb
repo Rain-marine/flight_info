{
 "cells": [
  {
   "cell_type": "code",
   "execution_count": 5,
   "metadata": {},
   "outputs": [
    {
     "name": "stdout",
     "output_type": "stream",
     "text": [
      "\u001b[1m## Load dataset compelete ##\n"
     ]
    }
   ],
   "source": [
    "# import libraries\n",
    "\n",
    "import pandas as pd\n",
    "\n",
    "# Load dataset\n",
    "dataset = pd.read_csv('D:\\Desktop\\Project\\FlightSalesClean.csv')\n",
    "\n",
    "# bold the result of program to show cutie\n",
    "class color:\n",
    "   BOLD = '\\033[1m'\n",
    "   END = '\\033[0m'\n",
    "print(color.BOLD + '## Load dataset compelete ##')\n"
   ]
  },
  {
   "cell_type": "code",
   "execution_count": 6,
   "metadata": {},
   "outputs": [
    {
     "name": "stdout",
     "output_type": "stream",
     "text": [
      "Number of rows is: 198814\n",
      "Number of columns is: 13\n",
      "~~~~~~~~~~~~~~~~~~~~~~~~~~~~~\n"
     ]
    }
   ],
   "source": [
    "# to get number of columns and rows:\n",
    "print('Number of rows is:', dataset.shape[0])\n",
    "print('Number of columns is:', dataset.shape[1])\n",
    "print('~~~~~~~~~~~~~~~~~~~~~~~~~~~~~')\n"
   ]
  },
  {
   "cell_type": "code",
   "execution_count": 7,
   "metadata": {},
   "outputs": [
    {
     "name": "stdout",
     "output_type": "stream",
     "text": [
      "<class 'pandas.core.frame.DataFrame'>\n",
      "RangeIndex: 198814 entries, 0 to 198813\n",
      "Columns: 13 entries, Unnamed: 0 to path\n",
      "dtypes: float64(2), int64(9), object(2)\n",
      "memory usage: 19.7+ MB\n",
      "~~~~~~~~~~~~~~~~~~~~~~~~~~~~~\n"
     ]
    }
   ],
   "source": [
    "\n",
    "#get type, total count, and number of nulls for each column, also get total number of columns for each type, range index and total columns\n",
    "dataset.info(verbose = False)\n",
    "print('~~~~~~~~~~~~~~~~~~~~~~~~~~~~~')\n"
   ]
  },
  {
   "cell_type": "code",
   "execution_count": 8,
   "metadata": {},
   "outputs": [
    {
     "name": "stdout",
     "output_type": "stream",
     "text": [
      "each coulmn’s unique values are:\n",
      "Unnamed: 0           198814\n",
      "id                   198814\n",
      "user_id               41811\n",
      "request_date_id         730\n",
      "request_time           2965\n",
      "departure_date_id       766\n",
      "departure_time_id       229\n",
      "company                  13\n",
      "source                   28\n",
      "destination              28\n",
      "price                  4349\n",
      "month                    12\n",
      "path                    146\n",
      "dtype: int64\n",
      "~~~~~~~~~~~~~~~~~~~~~~~~~~~~~\n"
     ]
    }
   ],
   "source": [
    "\n",
    "#how many unique values each column has? this shows what range of data in each topic we're talking about\n",
    "print('each coulmn’s unique values are:')\n",
    "print(dataset.nunique())\n",
    "print('~~~~~~~~~~~~~~~~~~~~~~~~~~~~~')\n"
   ]
  },
  {
   "cell_type": "code",
   "execution_count": 9,
   "metadata": {},
   "outputs": [],
   "source": [
    "\n",
    "# readable dates using datetime\n",
    "dataset['departure_date_id'] = pd.to_datetime(dataset['departure_date_id'], format='%Y%m%d')\n",
    "dataset['request_date_id'] = pd.to_datetime(dataset['request_date_id'], format='%Y%m%d')\n"
   ]
  },
  {
   "cell_type": "code",
   "execution_count": 11,
   "metadata": {},
   "outputs": [
    {
     "name": "stdout",
     "output_type": "stream",
     "text": [
      "request_date_id is 2016-03-21 00:00:00 to 2018-03-20 00:00:00\n",
      "request_time is 00:00:00 to 23:59:00\n",
      "departure_date_id is 2016-03-21 00:00:00 to 2018-05-15 00:00:00\n",
      "company is 1 to 20\n",
      "price is 0.030973 to 9443.805309000001 and its mean value is: 790.61\n",
      "month is 1 to 12\n",
      "~~~~~~~~~~~~~~~~~~~~~~~~~~~~~\n"
     ]
    }
   ],
   "source": [
    "\n",
    "# get the range of each column\n",
    "print('request_date_id is', dataset['request_date_id'].min(), 'to', dataset['request_date_id'].max())\n",
    "print('request_time is', dataset['request_time'].min(), 'to', dataset['request_time'].max())\n",
    "print('departure_date_id is', dataset['departure_date_id'].min(), 'to', dataset['departure_date_id'].max())\n",
    "print('company is', dataset['company'].min(), 'to', dataset['company'].max())\n",
    "print('price is', dataset['price'].min(), 'to', dataset['price'].max() , 'and its mean value is:',round(dataset['price'].mean() , 2))\n",
    "print('month is', dataset['month'].min(), 'to', dataset['month'].max())\n",
    "print('~~~~~~~~~~~~~~~~~~~~~~~~~~~~~')\n"
   ]
  },
  {
   "cell_type": "code",
   "execution_count": null,
   "metadata": {},
   "outputs": [],
   "source": []
  }
 ],
 "metadata": {
  "kernelspec": {
   "display_name": "Python 3",
   "language": "python",
   "name": "python3"
  },
  "language_info": {
   "codemirror_mode": {
    "name": "ipython",
    "version": 3
   },
   "file_extension": ".py",
   "mimetype": "text/x-python",
   "name": "python",
   "nbconvert_exporter": "python",
   "pygments_lexer": "ipython3",
   "version": "3.7.3"
  }
 },
 "nbformat": 4,
 "nbformat_minor": 2
}
