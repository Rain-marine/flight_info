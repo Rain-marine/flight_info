{
 "cells": [
  {
   "cell_type": "code",
   "execution_count": 1,
   "metadata": {},
   "outputs": [
    {
     "name": "stdout",
     "output_type": "stream",
     "text": [
      "loading Dataset Compelete!\n"
     ]
    }
   ],
   "source": [
    "\"\"\"# Import libraries\"\"\"\n",
    "\n",
    "import matplotlib.pyplot as plt\n",
    "import pandas as pd\n",
    "import numpy as np\n",
    "\n",
    "\"\"\"# import dataset\"\"\"\n",
    "df = pd.read_csv('D:\\Desktop\\Project\\FlightSalesClean.csv')\n",
    "print('loading Dataset Compelete!')"
   ]
  },
  {
   "cell_type": "code",
   "execution_count": 2,
   "metadata": {},
   "outputs": [
    {
     "name": "stderr",
     "output_type": "stream",
     "text": [
      "C:\\Users\\ASUS\\Anaconda3\\lib\\site-packages\\ipykernel_launcher.py:5: SettingWithCopyWarning: \n",
      "A value is trying to be set on a copy of a slice from a DataFrame.\n",
      "Try using .loc[row_indexer,col_indexer] = value instead\n",
      "\n",
      "See the caveats in the documentation: http://pandas.pydata.org/pandas-docs/stable/indexing.html#indexing-view-versus-copy\n",
      "  \"\"\"\n"
     ]
    },
    {
     "data": {
      "text/html": [
       "<div>\n",
       "<style scoped>\n",
       "    .dataframe tbody tr th:only-of-type {\n",
       "        vertical-align: middle;\n",
       "    }\n",
       "\n",
       "    .dataframe tbody tr th {\n",
       "        vertical-align: top;\n",
       "    }\n",
       "\n",
       "    .dataframe thead th {\n",
       "        text-align: right;\n",
       "    }\n",
       "</style>\n",
       "<table border=\"1\" class=\"dataframe\">\n",
       "  <thead>\n",
       "    <tr style=\"text-align: right;\">\n",
       "      <th></th>\n",
       "      <th>difference</th>\n",
       "    </tr>\n",
       "    <tr>\n",
       "      <th>month_of_year</th>\n",
       "      <th></th>\n",
       "    </tr>\n",
       "  </thead>\n",
       "  <tbody>\n",
       "    <tr>\n",
       "      <th>April</th>\n",
       "      <td>5.186484</td>\n",
       "    </tr>\n",
       "    <tr>\n",
       "      <th>August</th>\n",
       "      <td>7.090592</td>\n",
       "    </tr>\n",
       "    <tr>\n",
       "      <th>December</th>\n",
       "      <td>5.724421</td>\n",
       "    </tr>\n",
       "    <tr>\n",
       "      <th>February</th>\n",
       "      <td>9.191735</td>\n",
       "    </tr>\n",
       "    <tr>\n",
       "      <th>January</th>\n",
       "      <td>7.251441</td>\n",
       "    </tr>\n",
       "    <tr>\n",
       "      <th>July</th>\n",
       "      <td>5.764160</td>\n",
       "    </tr>\n",
       "    <tr>\n",
       "      <th>June</th>\n",
       "      <td>5.856776</td>\n",
       "    </tr>\n",
       "    <tr>\n",
       "      <th>March</th>\n",
       "      <td>7.113529</td>\n",
       "    </tr>\n",
       "    <tr>\n",
       "      <th>May</th>\n",
       "      <td>5.273851</td>\n",
       "    </tr>\n",
       "    <tr>\n",
       "      <th>November</th>\n",
       "      <td>6.323151</td>\n",
       "    </tr>\n",
       "    <tr>\n",
       "      <th>October</th>\n",
       "      <td>5.233745</td>\n",
       "    </tr>\n",
       "    <tr>\n",
       "      <th>September</th>\n",
       "      <td>6.242248</td>\n",
       "    </tr>\n",
       "  </tbody>\n",
       "</table>\n",
       "</div>"
      ],
      "text/plain": [
       "               difference\n",
       "month_of_year            \n",
       "April            5.186484\n",
       "August           7.090592\n",
       "December         5.724421\n",
       "February         9.191735\n",
       "January          7.251441\n",
       "July             5.764160\n",
       "June             5.856776\n",
       "March            7.113529\n",
       "May              5.273851\n",
       "November         6.323151\n",
       "October          5.233745\n",
       "September        6.242248"
      ]
     },
     "execution_count": 2,
     "metadata": {},
     "output_type": "execute_result"
    }
   ],
   "source": [
    "q7_df = df[['request_date_id', 'departure_date_id']]\n",
    "\n",
    "\"\"\"# change column to timedelta pandas format and calculate the difference\"\"\"\n",
    "# set the correct format of dataframe\n",
    "q7_df['request_date_id'] = pd.to_datetime(q7_df['request_date_id'], format=\"%Y%m%d\")\n",
    "\n",
    "''' Remove departure_date_id with the zero value '''\n",
    "q7_df = q7_df[q7_df.departure_date_id != 0]\n",
    "q7_df['departure_date_id'] = pd.to_datetime(q7_df['departure_date_id'], format=\"%Y%m%d\")\n",
    "\n",
    "''' Difference between request date and departure time '''\n",
    "q7_df['difference'] = q7_df['departure_date_id'] - q7_df['request_date_id']\n",
    "q7_df\n",
    "\n",
    "\"\"\"# User behavior in different months\"\"\"\n",
    "# date to week days\n",
    "q7_df['month_of_year'] = q7_df['request_date_id'].dt.month_name()\n",
    "q7_df\n",
    "\n",
    "\"\"\"# Difference column to int\"\"\"\n",
    "q7_df['difference'] = round(q7_df['difference'].dt.days / 1, 1)\n",
    "q7_df\n",
    "\n",
    "months_frequency = q7_df.groupby(['month_of_year']).mean()\n",
    "months_frequency\n"
   ]
  },
  {
   "cell_type": "code",
   "execution_count": 3,
   "metadata": {},
   "outputs": [],
   "source": [
    "\n",
    "# get just the hours number \n",
    "months = months_frequency.index\n",
    "request_month_list = []\n",
    "for i in range(len(months)):\n",
    "    item = str(months[i])\n",
    "    request_month_list.append(item)\n",
    "    \n",
    "\n",
    "request_month_list = np.array(request_month_list)  # list to numpy array\n",
    "\n",
    "frequenceis = months_frequency.to_numpy() # list to numpy array\n",
    "\n",
    "requests_frequencies_zip = list(zip(request_month_list, frequenceis))\n",
    "\n",
    "requests_frequencies_zip = sorted(requests_frequencies_zip, key=lambda x: x[1]) # sort by hour\n",
    "\n",
    "requests_frequencies_dict = {} # dictionary of items\n",
    "\n",
    "for i in range(len(requests_frequencies_zip)):\n",
    "    requests_frequencies_dict[requests_frequencies_zip[i][0]] = float(requests_frequencies_zip[i][1])\n",
    "list_to_plot_x = ['January', 'February', 'March', 'April', 'May', 'June', 'July', 'August', 'September', 'October', 'November', 'December']\n",
    "list_to_plot_y = []\n",
    "for item in list_to_plot_x:\n",
    "    list_to_plot_y.append(requests_frequencies_dict[item])\n"
   ]
  },
  {
   "cell_type": "code",
   "execution_count": 4,
   "metadata": {},
   "outputs": [
    {
     "data": {
      "image/png": "[encoded data removed]",
      "text/plain": [
       "<Figure size 720x576 with 1 Axes>"
      ]
     },
     "metadata": {
      "needs_background": "light"
     },
     "output_type": "display_data"
    }
   ],
   "source": [
    "# plot\n",
    "plt.bar(list_to_plot_x, list_to_plot_y, color = 'mediumturquoise', edgecolor = 'black')\n",
    "plt.xticks(rotation=-45, ha='left')\n",
    "plt.grid(b=None, which='major' , axis='y',linestyle='--')\n",
    "plt.title('Average of difference between request and departure date', fontsize = 16)\n",
    "plt.xlabel('Months', fontsize = 14)\n",
    "plt.ylabel('Interval of request and departure(day)', fontsize = 14)\n",
    "plt.gcf().set_size_inches(10,8)\n",
    "plt.ylim([0, max(list_to_plot_y)*1.1])\n",
    "list_to_plot_y = np.around(list_to_plot_y, 1)\n",
    "for i, v in enumerate(list_to_plot_y):\n",
    "    plt.text(i-0.2, v+0.1, str(v), color='black')\n",
    "plt.show()"
   ]
  }
 ],
 "metadata": {
  "kernelspec": {
   "display_name": "Python 3",
   "language": "python",
   "name": "python3"
  },
  "language_info": {
   "codemirror_mode": {
    "name": "ipython",
    "version": 3
   },
   "file_extension": ".py",
   "mimetype": "text/x-python",
   "name": "python",
   "nbconvert_exporter": "python",
   "pygments_lexer": "ipython3",
   "version": "3.7.3"
  }
 },
 "nbformat": 4,
 "nbformat_minor": 2
}
