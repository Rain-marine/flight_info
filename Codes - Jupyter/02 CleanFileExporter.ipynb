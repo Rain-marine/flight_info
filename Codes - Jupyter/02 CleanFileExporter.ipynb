{
 "cells": [
  {
   "cell_type": "code",
   "execution_count": 6,
   "metadata": {},
   "outputs": [
    {
     "name": "stdout",
     "output_type": "stream",
     "text": [
      "Done loading!\n"
     ]
    }
   ],
   "source": [
    "import pandas as pd\n",
    "\n",
    "D = pd.read_excel('D:\\Desktop\\Project\\FlightSales.xlsx')\n",
    "\n",
    "print('Done loading Dataset!')"
   ]
  },
  {
   "cell_type": "code",
   "execution_count": 7,
   "metadata": {},
   "outputs": [],
   "source": [
    "#CLEANING DATA FIRST\n",
    "\n",
    "#delete column \"id\" because it makes difference between same rows\n",
    "#D = D.drop(['id'] , axis = 1) #if you want to delete duplicates UNCOMMENT this commnad\n",
    "\n",
    "# removing the duplicated rows, only keeping one of them\n",
    "#!!!NOTE: duplicated rows means a user has bought several tickets thus we decide to keep them.\n",
    "#D = D.drop_duplicates( keep = 'first')\n",
    "\n",
    "#Drop rows which contain missing values.\n",
    "D.dropna(inplace = True)\n",
    "\n",
    "# Get names of indexes for which column user_id has value less than 1\n",
    "indexNames = D[ D['user_id'] < 1 ].index\n",
    "# Delete these rows from dataFrame\n",
    "D.drop(indexNames , inplace=True)\n",
    "\n",
    "# Get names of indexes for which column departure_date_id has value 0\n",
    "indexNames2 = D[ D['departure_date_id'] == 0 ].index\n",
    "# Delete these rows from dataFrame\n",
    "D.drop(indexNames2 , inplace=True)\n"
   ]
  },
  {
   "cell_type": "code",
   "execution_count": 8,
   "metadata": {},
   "outputs": [],
   "source": [
    "#ADDING THINGS WE NEED TO DATA\n",
    "\n",
    "# convert column values that we need, to int64 so we can actually work with it later\n",
    "D['source'] = D['source'].astype('Int64')\n",
    "D['destination'] = D['destination'].astype('Int64')\n",
    "#why first to int64 then to str and not directly to str? because it's float,with one zero \n",
    "#so if we convert it to srt directly it will be like:15.0 but it should be like:15\n",
    "\n",
    "\n",
    "# convert date to str so we can seperate month\n",
    "D['departure_date_id'] = D['departure_date_id'].astype('str')\n",
    "\n",
    "\n",
    "#seperate  departure month and add a new column named month for Question 6\n",
    "D['month'] = D.departure_date_id.apply(lambda x: x[4:6])\n",
    "#the month column is str, we need intigers in case we want to work with its numbers:\n",
    "D['month'] = pd.to_numeric(D['month'])\n",
    "D['month'] = D['month'].astype('Int64')\n",
    "\n",
    "\n",
    "#add a column named path for Question 5\n",
    "D['path'] = D['source'].map(str)+\"-\"+D['destination'].map(str)\n",
    "D['path'] = D['path'].astype('str')\n",
    "\n",
    "\n",
    "\n"
   ]
  },
  {
   "cell_type": "code",
   "execution_count": 9,
   "metadata": {},
   "outputs": [],
   "source": [
    "#everything done! let's reset indexes\n",
    "D.reset_index(inplace = True , drop = True)\n"
   ]
  },
  {
   "cell_type": "code",
   "execution_count": 10,
   "metadata": {},
   "outputs": [
    {
     "name": "stdout",
     "output_type": "stream",
     "text": [
      "Done Exporting CSV File\n"
     ]
    }
   ],
   "source": [
    "#export the clean dataframe with csv format to answer questions with\n",
    "export_csv = D.to_csv(r'D:\\Desktop\\Project\\FlightSalesClean.csv')\n",
    "\n",
    "print('Done Exporting CSV File')"
   ]
  },
  {
   "cell_type": "code",
   "execution_count": null,
   "metadata": {},
   "outputs": [],
   "source": []
  }
 ],
 "metadata": {
  "kernelspec": {
   "display_name": "Python 3",
   "language": "python",
   "name": "python3"
  },
  "language_info": {
   "codemirror_mode": {
    "name": "ipython",
    "version": 3
   },
   "file_extension": ".py",
   "mimetype": "text/x-python",
   "name": "python",
   "nbconvert_exporter": "python",
   "pygments_lexer": "ipython3",
   "version": "3.7.3"
  }
 },
 "nbformat": 4,
 "nbformat_minor": 2
}
